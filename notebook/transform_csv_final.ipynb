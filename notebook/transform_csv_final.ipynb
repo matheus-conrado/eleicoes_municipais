{
 "cells": [
  {
   "cell_type": "code",
   "execution_count": 1,
   "id": "cb1f9d03-e42a-43ad-bdd9-4fbffd5716ac",
   "metadata": {},
   "outputs": [],
   "source": [
    "import pandas as pd"
   ]
  },
  {
   "cell_type": "code",
   "execution_count": 2,
   "id": "d2f89331-bb67-4223-a22a-741c339fbc8e",
   "metadata": {},
   "outputs": [],
   "source": [
    "df_secoes = pd.read_csv('../data/local_votacao_2016.csv',encoding='latin1')"
   ]
  },
  {
   "cell_type": "code",
   "execution_count": 3,
   "id": "8df952a4-e999-4811-b846-f74b6ce457c7",
   "metadata": {},
   "outputs": [],
   "source": [
    "df_eleicao = pd.read_csv('../data/votacao_secao_2016_final.csv', encoding='latin1')"
   ]
  },
  {
   "cell_type": "code",
   "execution_count": 40,
   "id": "b0ffc209-81d4-4446-916a-b2546b8886a9",
   "metadata": {},
   "outputs": [],
   "source": [
    "df_final = pd.merge(df_eleicao,df_secoes,how='left',on='NR_LOCAL_VOTACAO')"
   ]
  },
  {
   "cell_type": "code",
   "execution_count": 44,
   "id": "4dd4b232-f091-42a4-8c80-3aaeb644f85e",
   "metadata": {},
   "outputs": [
    {
     "data": {
      "text/plain": [
       "Index(['AA_ELEICAO', 'NR_ZONA', 'NR_SECAO', 'CD_TIPO_SECAO_AGREGADA',\n",
       "       'DS_TIPO_SECAO_AGREGADA', 'NR_LOCAL_VOTACAO', 'NM_LOCAL_VOTACAO',\n",
       "       'CD_TIPO_LOCAL', 'DS_TIPO_LOCAL', 'DS_ENDERECO', 'NM_BAIRRO', 'NR_CEP',\n",
       "       'NR_LATITUDE', 'NR_LONGITUDE', 'CD_SITU_LOCAL_VOTACAO',\n",
       "       'DS_SITU_LOCAL_VOTACAO', 'CD_SITU_ZONA', 'DS_SITU_ZONA',\n",
       "       'CD_SITU_SECAO', 'DS_SITU_SECAO', 'CD_SITU_LOCALIDADE',\n",
       "       'DS_SITU_LOCALIDADE', 'CD_SITU_SECAO_ACESSIBILIDADE',\n",
       "       'DS_SITU_SECAO_ACESSIBILIDADE', 'QT_ELEITOR', 'QT_ELEITOR_ELEICAO'],\n",
       "      dtype='object')"
      ]
     },
     "execution_count": 44,
     "metadata": {},
     "output_type": "execute_result"
    }
   ],
   "source": [
    "df_secoes.columns"
   ]
  },
  {
   "cell_type": "code",
   "execution_count": null,
   "id": "b0827ea5-25c2-46d9-95da-4483914f8a15",
   "metadata": {},
   "outputs": [],
   "source": [
    "ANO_ELEICAO\n",
    "DT_ELEICAO\n",
    "SG_UF\n",
    "SG_UE\n",
    "NM_UE\n",
    "CD_MUNICIPIO\n",
    "NM_MUNICIPIO\n",
    "NR_ZONA\n",
    "NR_SECAO\n",
    "NR_VOTAVEL\n",
    "NM_VOTAVEL\n",
    "QT_VOTOS\n",
    "NR_LOCAL_VOTACAO"
   ]
  }
 ],
 "metadata": {
  "kernelspec": {
   "display_name": "Python 3 (ipykernel)",
   "language": "python",
   "name": "python3"
  },
  "language_info": {
   "codemirror_mode": {
    "name": "ipython",
    "version": 3
   },
   "file_extension": ".py",
   "mimetype": "text/x-python",
   "name": "python",
   "nbconvert_exporter": "python",
   "pygments_lexer": "ipython3",
   "version": "3.10.6"
  }
 },
 "nbformat": 4,
 "nbformat_minor": 5
}
