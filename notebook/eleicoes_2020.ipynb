{
 "cells": [
  {
   "cell_type": "code",
   "execution_count": 10,
   "id": "c4f2e137-b304-4eb6-98c2-a3829865a8b4",
   "metadata": {},
   "outputs": [],
   "source": [
    "import pandas as pd\n",
    "import dask.dataframe as dd"
   ]
  },
  {
   "cell_type": "code",
   "execution_count": 11,
   "id": "53eed999-3eb2-4384-afbc-b24c7300a7c3",
   "metadata": {},
   "outputs": [],
   "source": [
    "df = dd.read_csv('../data/votacao_secao_2020_SP.csv',sep=';',encoding='latin1')"
   ]
  },
  {
   "cell_type": "code",
   "execution_count": 12,
   "id": "136e2847-40b2-4c8e-82ac-02c0f152093c",
   "metadata": {},
   "outputs": [],
   "source": [
    "df = df[['ANO_ELEICAO','DT_ELEICAO','SG_UF','SG_UE','NM_UE','CD_MUNICIPIO','NM_MUNICIPIO','NR_ZONA','NR_SECAO','NR_VOTAVEL','NM_VOTAVEL','QT_VOTOS','NR_LOCAL_VOTACAO']]"
   ]
  },
  {
   "cell_type": "code",
   "execution_count": 13,
   "id": "4640d115-0b9d-4c6a-a416-e46e154d44f8",
   "metadata": {},
   "outputs": [],
   "source": [
    "df.to_parquet('../data/votacao_secao_2020_final')"
   ]
  },
  {
   "cell_type": "code",
   "execution_count": 14,
   "id": "8c149a20-9e16-4104-8bf5-6adc1d1e3c97",
   "metadata": {},
   "outputs": [],
   "source": [
    "df_final = pd.read_parquet('../data/votacao_secao_2020_final/')"
   ]
  },
  {
   "cell_type": "code",
   "execution_count": 15,
   "id": "16d36e5b-652f-49b6-84a6-74cbe4e59cb2",
   "metadata": {},
   "outputs": [],
   "source": [
    "df_final = df_final.query('NM_VOTAVEL == \"ANDERSON CARNEIRO DA SILVA\"')"
   ]
  },
  {
   "cell_type": "code",
   "execution_count": 16,
   "id": "06887b1c-8d13-4a28-bf7e-ad7684ca13a8",
   "metadata": {},
   "outputs": [],
   "source": [
    "df_final.to_csv('../data/votacao_secao_2020_final.csv',index=False)"
   ]
  },
  {
   "cell_type": "code",
   "execution_count": 23,
   "id": "90bdd0a9-3a82-43bc-a40a-2e0030911e9d",
   "metadata": {},
   "outputs": [
    {
     "data": {
      "text/plain": [
       "array([174, 283, 284, 296, 409, 414])"
      ]
     },
     "execution_count": 23,
     "metadata": {},
     "output_type": "execute_result"
    }
   ],
   "source": [
    "df_final['NR_ZONA'].unique()"
   ]
  },
  {
   "cell_type": "code",
   "execution_count": null,
   "id": "2ca908d2-e30f-420f-a38f-d7ea8587cab0",
   "metadata": {},
   "outputs": [],
   "source": []
  }
 ],
 "metadata": {
  "kernelspec": {
   "display_name": "Python 3 (ipykernel)",
   "language": "python",
   "name": "python3"
  },
  "language_info": {
   "codemirror_mode": {
    "name": "ipython",
    "version": 3
   },
   "file_extension": ".py",
   "mimetype": "text/x-python",
   "name": "python",
   "nbconvert_exporter": "python",
   "pygments_lexer": "ipython3",
   "version": "3.10.6"
  }
 },
 "nbformat": 4,
 "nbformat_minor": 5
}
