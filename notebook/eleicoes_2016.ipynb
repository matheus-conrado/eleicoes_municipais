{
 "cells": [
  {
   "cell_type": "code",
   "execution_count": 1,
   "id": "c4f2e137-b304-4eb6-98c2-a3829865a8b4",
   "metadata": {},
   "outputs": [],
   "source": [
    "import pandas as pd"
   ]
  },
  {
   "cell_type": "code",
   "execution_count": 2,
   "id": "53eed999-3eb2-4384-afbc-b24c7300a7c3",
   "metadata": {},
   "outputs": [],
   "source": [
    "df = pd.read_csv('../data/votacao_secao_2016_SP.csv',sep=';',encoding='latin1')"
   ]
  },
  {
   "cell_type": "code",
   "execution_count": 3,
   "id": "7758b672-0b9a-456f-97c2-ad3f510ca020",
   "metadata": {},
   "outputs": [],
   "source": [
    "df = df.query('DS_CARGO == \"Vereador\" and NM_VOTAVEL == \"ANDERSON CARNEIRO DA SILVA\"')"
   ]
  },
  {
   "cell_type": "code",
   "execution_count": 4,
   "id": "d093c067-6a97-42f1-b39c-263449db9951",
   "metadata": {},
   "outputs": [],
   "source": [
    "df_final = df[['ANO_ELEICAO','DT_ELEICAO','SG_UF','SG_UE','NM_UE','CD_MUNICIPIO','NM_MUNICIPIO','NR_ZONA','NR_SECAO','NR_VOTAVEL','NM_VOTAVEL','QT_VOTOS','NR_LOCAL_VOTACAO']]"
   ]
  },
  {
   "cell_type": "code",
   "execution_count": 6,
   "id": "d3530e6f-b50b-4008-99b6-2c4da3b293f8",
   "metadata": {},
   "outputs": [],
   "source": [
    "df_final.to_csv('../data/votacao_secao_2016_final',index=False)"
   ]
  },
  {
   "cell_type": "code",
   "execution_count": null,
   "id": "e11f5689-5812-4a5a-bc70-e2732746afa9",
   "metadata": {},
   "outputs": [],
   "source": []
  }
 ],
 "metadata": {
  "kernelspec": {
   "display_name": "Python 3 (ipykernel)",
   "language": "python",
   "name": "python3"
  },
  "language_info": {
   "codemirror_mode": {
    "name": "ipython",
    "version": 3
   },
   "file_extension": ".py",
   "mimetype": "text/x-python",
   "name": "python",
   "nbconvert_exporter": "python",
   "pygments_lexer": "ipython3",
   "version": "3.10.6"
  }
 },
 "nbformat": 4,
 "nbformat_minor": 5
}
