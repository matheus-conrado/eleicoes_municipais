{
 "cells": [
  {
   "cell_type": "code",
   "execution_count": 2,
   "id": "286c4355-8de5-468d-aa36-19d972ba8928",
   "metadata": {},
   "outputs": [
    {
     "ename": "ModuleNotFoundError",
     "evalue": "No module named 'streamlit'",
     "output_type": "error",
     "traceback": [
      "\u001b[1;31m---------------------------------------------------------------------------\u001b[0m",
      "\u001b[1;31mModuleNotFoundError\u001b[0m                       Traceback (most recent call last)",
      "Cell \u001b[1;32mIn [2], line 1\u001b[0m\n\u001b[1;32m----> 1\u001b[0m \u001b[38;5;28;01mimport\u001b[39;00m \u001b[38;5;21;01mstreamlit\u001b[39;00m \u001b[38;5;28;01mas\u001b[39;00m \u001b[38;5;21;01mst\u001b[39;00m\n\u001b[0;32m      2\u001b[0m \u001b[38;5;28;01mimport\u001b[39;00m \u001b[38;5;21;01mpandas\u001b[39;00m \u001b[38;5;28;01mas\u001b[39;00m \u001b[38;5;21;01mpd\u001b[39;00m\n",
      "\u001b[1;31mModuleNotFoundError\u001b[0m: No module named 'streamlit'"
     ]
    }
   ],
   "source": [
    "import streamlit as st\n",
    "import pandas as pd"
   ]
  },
  {
   "cell_type": "code",
   "execution_count": 4,
   "id": "7788e22d-8d36-4ad7-a879-a60946c74317",
   "metadata": {},
   "outputs": [
    {
     "name": "stdout",
     "output_type": "stream",
     "text": [
      "Using version ^10.0.0 for pyarrow\n",
      "\n",
      "Updating dependencies\n",
      "Resolving dependencies...\n",
      "\n",
      "Writing lock file\n",
      "\n",
      "Package operations: 1 install, 2 updates, 0 removals\n",
      "\n",
      "  • Updating pywin32 (304 -> 305)\n",
      "\n",
      "  CalledProcessError\n",
      "\n",
      "  Command 'C:\\Users\\mathe\\AppData\\Local\\pypoetry\\Cache\\virtualenvs\\eleicoes-municipais-mJpXlg88-py3.11\\Scripts\\python.exe -m pip install --disable-pip-version-check --prefix C:\\Users\\mathe\\AppData\\Local\\pypoetry\\Cache\\virtualenvs\\eleicoes-municipais-mJpXlg88-py3.11 --upgrade --no-deps C:\\Users\\mathe\\AppData\\Local\\pypoetry\\Cache\\artifacts\\88\\ac\\52\\6f86218fdba3dc386c1dc998f83dac6da4cd1bc31e8155b65c842d6d2f\\pywin32-305-cp311-cp311-win_amd64.whl' returned non-zero exit status 1.\n",
      "\n",
      "  at C:\\Program Files\\Python\\Lib\\subprocess.py:569 in run\n",
      "       565|             # We don't call process.wait() as .__exit__ does that for us.\n",
      "       566|             raise\n",
      "       567|         retcode = process.poll()\n",
      "       568|         if check and retcode:\n",
      "    >  569|             raise CalledProcessError(retcode, process.args,\n",
      "       570|                                      output=stdout, stderr=stderr)\n",
      "       571|     return CompletedProcess(process.args, retcode, stdout, stderr)\n",
      "       572| \n",
      "       573| \n",
      "\n",
      "The following error occurred when trying to handle this error:\n",
      "\n",
      "\n",
      "  EnvCommandError\n",
      "\n",
      "  Command C:\\Users\\mathe\\AppData\\Local\\pypoetry\\Cache\\virtualenvs\\eleicoes-municipais-mJpXlg88-py3.11\\Scripts\\python.exe -m pip install --disable-pip-version-check --prefix C:\\Users\\mathe\\AppData\\Local\\pypoetry\\Cache\\virtualenvs\\eleicoes-municipais-mJpXlg88-py3.11 --upgrade --no-deps C:\\Users\\mathe\\AppData\\Local\\pypoetry\\Cache\\artifacts\\88\\ac\\52\\6f86218fdba3dc386c1dc998f83dac6da4cd1bc31e8155b65c842d6d2f\\pywin32-305-cp311-cp311-win_amd64.whl errored with the following return code 1, and output: \n",
      "  Processing c:\\users\\mathe\\appdata\\local\\pypoetry\\cache\\artifacts\\88\\ac\\52\\6f86218fdba3dc386c1dc998f83dac6da4cd1bc31e8155b65c842d6d2f\\pywin32-305-cp311-cp311-win_amd64.whl\n",
      "\n",
      "  Installing collected packages: pywin32\n",
      "\n",
      "    Attempting uninstall: pywin32\n",
      "\n",
      "      Found existing installation: pywin32 304\n",
      "\n",
      "      Uninstalling pywin32-304:\n",
      "\n",
      "        Successfully uninstalled pywin32-304\n",
      "\n",
      "  ERROR: Could not install packages due to an OSError: [WinError 5] Acesso negado: 'C:\\\\Users\\\\mathe\\\\AppData\\\\Local\\\\pypoetry\\\\Cache\\\\virtualenvs\\\\eleicoes-municipais-mJpXlg88-py3.11\\\\Lib\\\\site-packages\\\\~ywin32_system32\\\\pythoncom311.dll'\n",
      "\n",
      "  Check the permissions.\n",
      "\n",
      "  \n",
      "\n",
      "  \n",
      "\n",
      "  at ~\\AppData\\Roaming\\pypoetry\\venv\\Lib\\site-packages\\poetry\\utils\\env.py:1476 in _run\n",
      "      1472|                 output = subprocess.check_output(\n",
      "      1473|                     command, stderr=subprocess.STDOUT, env=env, **kwargs\n",
      "      1474|                 )\n",
      "      1475|         except CalledProcessError as e:\n",
      "    > 1476|             raise EnvCommandError(e, input=input_)\n",
      "      1477| \n",
      "      1478|         return decode(output)\n",
      "      1479| \n",
      "      1480|     def execute(self, bin: str, *args: str, **kwargs: Any) -> int:\n",
      "\n",
      "The following error occurred when trying to handle this error:\n",
      "\n",
      "\n",
      "  PoetryException\n",
      "\n",
      "  Failed to install C:/Users/mathe/AppData/Local/pypoetry/Cache/artifacts/88/ac/52/6f86218fdba3dc386c1dc998f83dac6da4cd1bc31e8155b65c842d6d2f/pywin32-305-cp311-cp311-win_amd64.whl\n",
      "\n",
      "  at ~\\AppData\\Roaming\\pypoetry\\venv\\Lib\\site-packages\\poetry\\utils\\pip.py:51 in pip_install\n",
      "       47| \n",
      "       48|     try:\n",
      "       49|         return environment.run_pip(*args)\n",
      "       50|     except EnvCommandError as e:\n",
      "    >  51|         raise PoetryException(f\"Failed to install {path.as_posix()}\") from e\n",
      "       52| \n",
      "\n"
     ]
    }
   ],
   "source": [
    "!poetry add pyarrow"
   ]
  },
  {
   "cell_type": "code",
   "execution_count": null,
   "id": "390552f8-1b50-427c-ad6f-b089c5a472dc",
   "metadata": {},
   "outputs": [],
   "source": []
  }
 ],
 "metadata": {
  "kernelspec": {
   "display_name": "Python 3 (ipykernel)",
   "language": "python",
   "name": "python3"
  },
  "language_info": {
   "codemirror_mode": {
    "name": "ipython",
    "version": 3
   },
   "file_extension": ".py",
   "mimetype": "text/x-python",
   "name": "python",
   "nbconvert_exporter": "python",
   "pygments_lexer": "ipython3",
   "version": "3.11.0"
  }
 },
 "nbformat": 4,
 "nbformat_minor": 5
}
