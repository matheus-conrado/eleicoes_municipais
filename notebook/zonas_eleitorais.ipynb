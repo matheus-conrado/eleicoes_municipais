{
 "cells": [
  {
   "cell_type": "code",
   "execution_count": 26,
   "id": "000de194-da88-49ed-b532-fc24b1207746",
   "metadata": {},
   "outputs": [],
   "source": [
    "import pandas as pd"
   ]
  },
  {
   "cell_type": "code",
   "execution_count": 27,
   "id": "c029a7f6-a518-4f1e-af86-e38f236f6b9f",
   "metadata": {},
   "outputs": [],
   "source": [
    "df = pd.read_html('../174.html',flavor='lxml',encoding='utf8')"
   ]
  },
  {
   "cell_type": "code",
   "execution_count": 28,
   "id": "7e72c638-7725-4706-8061-14750725e52b",
   "metadata": {},
   "outputs": [],
   "source": [
    "df = df[0]"
   ]
  },
  {
   "cell_type": "code",
   "execution_count": 29,
   "id": "d39fe80c-720c-4438-8f0f-d0b05d0bb384",
   "metadata": {},
   "outputs": [],
   "source": [
    "df['zona_eleitoral'] = '414'"
   ]
  },
  {
   "cell_type": "code",
   "execution_count": 30,
   "id": "beb7477c-2098-42cf-b6ba-2afb85b9fe12",
   "metadata": {},
   "outputs": [],
   "source": [
    "df_414 = df"
   ]
  },
  {
   "cell_type": "code",
   "execution_count": 31,
   "id": "e4d07a2a-04ce-4ae3-bebf-3fe0de313d91",
   "metadata": {},
   "outputs": [],
   "source": [
    "df_final = pd.concat([df_174,df_283,df_284,df_296,df_409,df_414])"
   ]
  },
  {
   "cell_type": "code",
   "execution_count": 33,
   "id": "506652b6-8d56-4ed5-ae8a-40ef8891292d",
   "metadata": {},
   "outputs": [],
   "source": [
    "df_final.to_csv('../data/zona_secao_eleitoral.csv',index=False)"
   ]
  },
  {
   "cell_type": "code",
   "execution_count": 34,
   "id": "e6c2b53f-a676-426e-83b5-08b5f008a231",
   "metadata": {},
   "outputs": [
    {
     "data": {
      "text/plain": [
       "array(['174', '283', '284', '296', '409', '414'], dtype=object)"
      ]
     },
     "execution_count": 34,
     "metadata": {},
     "output_type": "execute_result"
    }
   ],
   "source": [
    "df_final['zona_eleitoral'].unique()"
   ]
  },
  {
   "cell_type": "code",
   "execution_count": null,
   "id": "c97a577b-ba1d-4374-ab55-b65b4a6ef919",
   "metadata": {},
   "outputs": [],
   "source": []
  }
 ],
 "metadata": {
  "kernelspec": {
   "display_name": "Python 3 (ipykernel)",
   "language": "python",
   "name": "python3"
  },
  "language_info": {
   "codemirror_mode": {
    "name": "ipython",
    "version": 3
   },
   "file_extension": ".py",
   "mimetype": "text/x-python",
   "name": "python",
   "nbconvert_exporter": "python",
   "pygments_lexer": "ipython3",
   "version": "3.10.6"
  }
 },
 "nbformat": 4,
 "nbformat_minor": 5
}
