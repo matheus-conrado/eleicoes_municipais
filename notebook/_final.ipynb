{
 "cells": [
  {
   "cell_type": "code",
   "execution_count": 1,
   "id": "325262d7-9516-4f35-b029-29e908f03e84",
   "metadata": {},
   "outputs": [],
   "source": [
    "import pandas as pd\n",
    "from sqlalchemy import create_engine"
   ]
  },
  {
   "cell_type": "code",
   "execution_count": 2,
   "id": "bbf650bd-80fc-4b7c-93ab-e3305776694d",
   "metadata": {},
   "outputs": [],
   "source": [
    "df = pd.read_csv('../data/local_votacao.csv',sep=';',decimal=',')"
   ]
  },
  {
   "cell_type": "code",
   "execution_count": 3,
   "id": "7a7891f1-bcad-4ae3-b4f4-485b056da0b2",
   "metadata": {},
   "outputs": [],
   "source": [
    "df = df[['NR_ZONA', 'NR_SECAO',\n",
    "       'CD_TIPO_SECAO_AGREGADA', 'DS_TIPO_SECAO_AGREGADA', 'NR_LOCAL_VOTACAO',\n",
    "       'NM_LOCAL_VOTACAO', 'CD_TIPO_LOCAL', 'DS_TIPO_LOCAL', 'DS_ENDERECO',\n",
    "       'NM_BAIRRO', 'NR_CEP', 'NR_LATITUDE', 'NR_LONGITUDE',\n",
    "       'CD_SITU_LOCAL_VOTACAO', 'DS_SITU_LOCAL_VOTACAO', 'CD_SITU_ZONA',\n",
    "       'DS_SITU_ZONA', 'CD_SITU_SECAO', 'DS_SITU_SECAO', 'CD_SITU_LOCALIDADE',\n",
    "       'DS_SITU_LOCALIDADE', 'CD_SITU_SECAO_ACESSIBILIDADE',\n",
    "       'DS_SITU_SECAO_ACESSIBILIDADE', 'QT_ELEITOR', 'QT_ELEITOR_ELEICAO']]"
   ]
  },
  {
   "cell_type": "code",
   "execution_count": 4,
   "id": "d0cd4e67-4f47-4641-896a-c341cb2fc61e",
   "metadata": {},
   "outputs": [],
   "source": [
    "df_local_votacao = df.drop_duplicates(subset=['NR_ZONA','NR_SECAO','NR_LOCAL_VOTACAO'])"
   ]
  },
  {
   "cell_type": "code",
   "execution_count": 5,
   "id": "4ea2b91d-1fc7-4ac6-a4f2-6e4cf7c913a3",
   "metadata": {},
   "outputs": [],
   "source": [
    "df = pd.read_csv('../data/votacao.csv',sep=';')"
   ]
  },
  {
   "cell_type": "code",
   "execution_count": 6,
   "id": "9698b7fb-614b-49a7-8e13-284977cc2be2",
   "metadata": {},
   "outputs": [],
   "source": [
    "df_votacao = df[['ANO_ELEICAO', 'DT_ELEICAO', 'SG_UF', 'SG_UE', 'NM_UE',\n",
    "       'CD_MUNICIPIO', 'NM_MUNICIPIO', 'NR_ZONA', 'NR_SECAO', 'NR_VOTAVEL',\n",
    "       'NM_VOTAVEL', 'QT_VOTOS', 'NR_LOCAL_VOTACAO']]"
   ]
  },
  {
   "cell_type": "code",
   "execution_count": 7,
   "id": "f763e1b9-2717-4d23-95fc-279de21ef228",
   "metadata": {},
   "outputs": [],
   "source": [
    "df_final = df_votacao.merge(df_local_votacao,how='inner',on=['NR_ZONA', 'NR_SECAO','NR_LOCAL_VOTACAO'])"
   ]
  },
  {
   "cell_type": "code",
   "execution_count": 8,
   "id": "5334853c-ff1f-4785-84b8-5feefba4fe31",
   "metadata": {},
   "outputs": [],
   "source": [
    "#df_final.to_csv('../data/eleicoes_2016_2020.csv',sep=',')"
   ]
  },
  {
   "cell_type": "code",
   "execution_count": 9,
   "id": "395b726c-5b3d-46e5-8bc5-f41315215588",
   "metadata": {},
   "outputs": [],
   "source": [
    "df_final = df_final[['ANO_ELEICAO', 'DT_ELEICAO', 'SG_UF','NM_MUNICIPIO', 'NR_ZONA', 'NR_SECAO',\n",
    "       'QT_VOTOS', 'NM_LOCAL_VOTACAO', 'DS_ENDERECO', 'NM_BAIRRO', 'NR_CEP', 'NR_LATITUDE',\n",
    "       'NR_LONGITUDE','QT_ELEITOR_ELEICAO']]"
   ]
  },
  {
   "cell_type": "code",
   "execution_count": 46,
   "id": "4cb967bf-04ea-4611-9015-3dada64746fb",
   "metadata": {},
   "outputs": [],
   "source": [
    "df_final = df_final.convert_dtypes(str)"
   ]
  },
  {
   "cell_type": "code",
   "execution_count": 47,
   "id": "49e2ac79-cd94-49b2-af32-4519aac025b4",
   "metadata": {},
   "outputs": [],
   "source": [
    "df_final['NR_CEP'] = df_final['NR_CEP'].apply(lambda x: f\"0{x}\")"
   ]
  },
  {
   "cell_type": "code",
   "execution_count": 48,
   "id": "bdc1aa3c-3a02-4a1f-b7c2-91c22e00bedc",
   "metadata": {},
   "outputs": [],
   "source": [
    "df_final['NR_CEP'] = df_final['NR_CEP'].apply(lambda x: f\"{x[:5]}-{x[:3]}\")"
   ]
  },
  {
   "cell_type": "code",
   "execution_count": 56,
   "id": "6c5a78f4-de90-4f5b-9606-dcc40ebb7712",
   "metadata": {},
   "outputs": [
    {
     "data": {
      "text/html": [
       "<div>\n",
       "<style scoped>\n",
       "    .dataframe tbody tr th:only-of-type {\n",
       "        vertical-align: middle;\n",
       "    }\n",
       "\n",
       "    .dataframe tbody tr th {\n",
       "        vertical-align: top;\n",
       "    }\n",
       "\n",
       "    .dataframe thead th {\n",
       "        text-align: right;\n",
       "    }\n",
       "</style>\n",
       "<table border=\"1\" class=\"dataframe\">\n",
       "  <thead>\n",
       "    <tr style=\"text-align: right;\">\n",
       "      <th></th>\n",
       "      <th>665</th>\n",
       "    </tr>\n",
       "  </thead>\n",
       "  <tbody>\n",
       "    <tr>\n",
       "      <th>ANO_ELEICAO</th>\n",
       "      <td>2020</td>\n",
       "    </tr>\n",
       "    <tr>\n",
       "      <th>DT_ELEICAO</th>\n",
       "      <td>15/11/2020</td>\n",
       "    </tr>\n",
       "    <tr>\n",
       "      <th>SG_UF</th>\n",
       "      <td>SP</td>\n",
       "    </tr>\n",
       "    <tr>\n",
       "      <th>NM_MUNICIPIO</th>\n",
       "      <td>SÃO BERNARDO DO CAMPO</td>\n",
       "    </tr>\n",
       "    <tr>\n",
       "      <th>NR_ZONA</th>\n",
       "      <td>174</td>\n",
       "    </tr>\n",
       "    <tr>\n",
       "      <th>NR_SECAO</th>\n",
       "      <td>435</td>\n",
       "    </tr>\n",
       "    <tr>\n",
       "      <th>QT_VOTOS</th>\n",
       "      <td>2</td>\n",
       "    </tr>\n",
       "    <tr>\n",
       "      <th>NM_LOCAL_VOTACAO</th>\n",
       "      <td>EMEB IRMÃ ODETE MARIA RAMOS PINTO</td>\n",
       "    </tr>\n",
       "    <tr>\n",
       "      <th>DS_ENDERECO</th>\n",
       "      <td>RUA DA COMUNIDADE, 100 A 160</td>\n",
       "    </tr>\n",
       "    <tr>\n",
       "      <th>NM_BAIRRO</th>\n",
       "      <td>VILA SÃO PEDRO</td>\n",
       "    </tr>\n",
       "    <tr>\n",
       "      <th>NR_CEP</th>\n",
       "      <td>09784-097</td>\n",
       "    </tr>\n",
       "    <tr>\n",
       "      <th>NR_LATITUDE</th>\n",
       "      <td>-1.0</td>\n",
       "    </tr>\n",
       "    <tr>\n",
       "      <th>NR_LONGITUDE</th>\n",
       "      <td>-1.0</td>\n",
       "    </tr>\n",
       "    <tr>\n",
       "      <th>QT_ELEITOR_ELEICAO</th>\n",
       "      <td>400</td>\n",
       "    </tr>\n",
       "  </tbody>\n",
       "</table>\n",
       "</div>"
      ],
      "text/plain": [
       "                                                  665\n",
       "ANO_ELEICAO                                      2020\n",
       "DT_ELEICAO                                 15/11/2020\n",
       "SG_UF                                              SP\n",
       "NM_MUNICIPIO                    SÃO BERNARDO DO CAMPO\n",
       "NR_ZONA                                           174\n",
       "NR_SECAO                                          435\n",
       "QT_VOTOS                                            2\n",
       "NM_LOCAL_VOTACAO    EMEB IRMÃ ODETE MARIA RAMOS PINTO\n",
       "DS_ENDERECO              RUA DA COMUNIDADE, 100 A 160\n",
       "NM_BAIRRO                              VILA SÃO PEDRO\n",
       "NR_CEP                                      09784-097\n",
       "NR_LATITUDE                                      -1.0\n",
       "NR_LONGITUDE                                     -1.0\n",
       "QT_ELEITOR_ELEICAO                                400"
      ]
     },
     "execution_count": 56,
     "metadata": {},
     "output_type": "execute_result"
    }
   ],
   "source": [
    "df_final.sample().T"
   ]
  },
  {
   "cell_type": "code",
   "execution_count": null,
   "id": "94776302-8ae4-41cc-8e43-da8a82a45f7b",
   "metadata": {},
   "outputs": [],
   "source": []
  },
  {
   "cell_type": "code",
   "execution_count": null,
   "id": "eaed28e8-eb3f-44f0-aa58-332cf32052f2",
   "metadata": {},
   "outputs": [],
   "source": []
  }
 ],
 "metadata": {
  "kernelspec": {
   "display_name": "Python 3 (ipykernel)",
   "language": "python",
   "name": "python3"
  },
  "language_info": {
   "codemirror_mode": {
    "name": "ipython",
    "version": 3
   },
   "file_extension": ".py",
   "mimetype": "text/x-python",
   "name": "python",
   "nbconvert_exporter": "python",
   "pygments_lexer": "ipython3",
   "version": "3.11.0"
  }
 },
 "nbformat": 4,
 "nbformat_minor": 5
}
