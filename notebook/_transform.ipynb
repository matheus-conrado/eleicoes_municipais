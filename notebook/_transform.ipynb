{
 "cells": [
  {
   "cell_type": "code",
   "execution_count": 1,
   "id": "cb1f9d03-e42a-43ad-bdd9-4fbffd5716ac",
   "metadata": {},
   "outputs": [],
   "source": [
    "import pandas as pd"
   ]
  },
  {
   "cell_type": "code",
   "execution_count": 2,
   "id": "d2f89331-bb67-4223-a22a-741c339fbc8e",
   "metadata": {},
   "outputs": [],
   "source": [
    "df_secoes_2016 = pd.read_csv('../data/local_votacao_2016.csv',encoding='utf-8')"
   ]
  },
  {
   "cell_type": "code",
   "execution_count": 3,
   "id": "8df952a4-e999-4811-b846-f74b6ce457c7",
   "metadata": {},
   "outputs": [],
   "source": [
    "df_secoes_2020 = pd.read_csv('../data/local_votacao_2020.csv',encoding='utf-8')"
   ]
  },
  {
   "cell_type": "code",
   "execution_count": 4,
   "id": "14d051d3-98c5-417b-a0e8-3ac3dad3bd04",
   "metadata": {},
   "outputs": [],
   "source": [
    "df_votacao_2016 = pd.read_csv('../data/votacao_secao_2016_final.csv',encoding='utf-8')"
   ]
  },
  {
   "cell_type": "code",
   "execution_count": 5,
   "id": "d8ea62cf-2b45-4efc-876a-7c0dcfee8d9b",
   "metadata": {},
   "outputs": [],
   "source": [
    "df_votacao_2020 = pd.read_csv('../data/votacao_secao_2020_final.csv',encoding='utf-8')"
   ]
  },
  {
   "cell_type": "code",
   "execution_count": 6,
   "id": "b0ffc209-81d4-4446-916a-b2546b8886a9",
   "metadata": {},
   "outputs": [],
   "source": [
    "df_final_secao = pd.concat([df_secoes_2016,df_secoes_2020])"
   ]
  },
  {
   "cell_type": "code",
   "execution_count": 7,
   "id": "efc5eea2-eb45-4c89-bdf1-d76d2b6deb60",
   "metadata": {},
   "outputs": [],
   "source": [
    "df_final_votacao = pd.concat([df_votacao_2016,df_votacao_2020])"
   ]
  },
  {
   "cell_type": "code",
   "execution_count": 8,
   "id": "b0827ea5-25c2-46d9-95da-4483914f8a15",
   "metadata": {},
   "outputs": [],
   "source": [
    "df_final_secao.to_csv('../data/local_votacao.csv',sep=';',decimal=',')"
   ]
  },
  {
   "cell_type": "code",
   "execution_count": 9,
   "id": "d53377b0-79c6-4b49-9739-5abe7aa08422",
   "metadata": {},
   "outputs": [],
   "source": [
    "df_final_votacao.to_csv('../data/votacao.csv',sep=';',decimal=',')"
   ]
  }
 ],
 "metadata": {
  "kernelspec": {
   "display_name": "Python 3 (ipykernel)",
   "language": "python",
   "name": "python3"
  },
  "language_info": {
   "codemirror_mode": {
    "name": "ipython",
    "version": 3
   },
   "file_extension": ".py",
   "mimetype": "text/x-python",
   "name": "python",
   "nbconvert_exporter": "python",
   "pygments_lexer": "ipython3",
   "version": "3.11.0"
  }
 },
 "nbformat": 4,
 "nbformat_minor": 5
}
