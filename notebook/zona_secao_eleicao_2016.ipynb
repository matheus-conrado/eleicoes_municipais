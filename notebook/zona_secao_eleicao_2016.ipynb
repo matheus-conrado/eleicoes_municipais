{
 "cells": [
  {
   "cell_type": "code",
   "execution_count": 1,
   "id": "20a88be7-5afe-4066-9b13-b92489fcdd99",
   "metadata": {},
   "outputs": [],
   "source": [
    "import pandas as pd"
   ]
  },
  {
   "cell_type": "code",
   "execution_count": 2,
   "id": "799f4b5f-7313-4d77-8900-6f87f1acb5ac",
   "metadata": {},
   "outputs": [],
   "source": [
    "df_endereco = pd.read_csv('../data/eleitorado_local_votacao_2016.csv', encoding='latin1',sep=';')"
   ]
  },
  {
   "cell_type": "code",
   "execution_count": 3,
   "id": "c03f312f-4c45-4945-be0c-bf6f49d77e34",
   "metadata": {},
   "outputs": [],
   "source": [
    "df = df_endereco.query('NM_MUNICIPIO == \"SÃO BERNARDO DO CAMPO\" and NR_TURNO == 1')"
   ]
  },
  {
   "cell_type": "code",
   "execution_count": 6,
   "id": "54cbcca6-075b-4ad8-963b-bf18d3fad306",
   "metadata": {},
   "outputs": [
    {
     "data": {
      "text/plain": [
       "Index(['DT_GERACAO', 'HH_GERACAO', 'AA_ELEICAO', 'DT_ELEICAO', 'DS_ELEICAO',\n",
       "       'NR_TURNO', 'SG_UF', 'CD_MUNICIPIO', 'NM_MUNICIPIO', 'NR_ZONA',\n",
       "       'NR_SECAO', 'CD_TIPO_SECAO_AGREGADA', 'DS_TIPO_SECAO_AGREGADA',\n",
       "       'NR_LOCAL_VOTACAO', 'NM_LOCAL_VOTACAO', 'CD_TIPO_LOCAL',\n",
       "       'DS_TIPO_LOCAL', 'DS_ENDERECO', 'NM_BAIRRO', 'NR_CEP',\n",
       "       'NR_TELEFONE_LOCAL', 'NR_LATITUDE', 'NR_LONGITUDE',\n",
       "       'CD_SITU_LOCAL_VOTACAO', 'DS_SITU_LOCAL_VOTACAO', 'CD_SITU_ZONA',\n",
       "       'DS_SITU_ZONA', 'CD_SITU_SECAO', 'DS_SITU_SECAO', 'CD_SITU_LOCALIDADE',\n",
       "       'DS_SITU_LOCALIDADE', 'CD_SITU_SECAO_ACESSIBILIDADE',\n",
       "       'DS_SITU_SECAO_ACESSIBILIDADE', 'QT_ELEITOR', 'QT_ELEITOR_ELEICAO'],\n",
       "      dtype='object')"
      ]
     },
     "execution_count": 6,
     "metadata": {},
     "output_type": "execute_result"
    }
   ],
   "source": [
    "df.columns"
   ]
  },
  {
   "cell_type": "code",
   "execution_count": 13,
   "id": "95d90acc-98e4-48ee-8a1d-306eee09526e",
   "metadata": {},
   "outputs": [],
   "source": [
    "df_final = df[['AA_ELEICAO','NR_ZONA',\n",
    "       'NR_SECAO', 'CD_TIPO_SECAO_AGREGADA', 'DS_TIPO_SECAO_AGREGADA',\n",
    "       'NR_LOCAL_VOTACAO', 'NM_LOCAL_VOTACAO', 'CD_TIPO_LOCAL',\n",
    "       'DS_TIPO_LOCAL', 'DS_ENDERECO', 'NM_BAIRRO', 'NR_CEP', 'NR_LATITUDE', 'NR_LONGITUDE',\n",
    "       'CD_SITU_LOCAL_VOTACAO', 'DS_SITU_LOCAL_VOTACAO', 'CD_SITU_ZONA',\n",
    "       'DS_SITU_ZONA', 'CD_SITU_SECAO', 'DS_SITU_SECAO', 'CD_SITU_LOCALIDADE',\n",
    "       'DS_SITU_LOCALIDADE', 'CD_SITU_SECAO_ACESSIBILIDADE',\n",
    "       'DS_SITU_SECAO_ACESSIBILIDADE', 'QT_ELEITOR', 'QT_ELEITOR_ELEICAO']]"
   ]
  },
  {
   "cell_type": "code",
   "execution_count": 14,
   "id": "4935cbde-0fa7-4dda-aa62-ec60bce780bb",
   "metadata": {},
   "outputs": [],
   "source": [
    "df_final.to_csv('../data/local_votacao_2016.csv',index=False)"
   ]
  },
  {
   "cell_type": "code",
   "execution_count": null,
   "id": "b17f883c-19e3-473f-b0bd-07416e7eb471",
   "metadata": {},
   "outputs": [],
   "source": []
  }
 ],
 "metadata": {
  "kernelspec": {
   "display_name": "Python 3 (ipykernel)",
   "language": "python",
   "name": "python3"
  },
  "language_info": {
   "codemirror_mode": {
    "name": "ipython",
    "version": 3
   },
   "file_extension": ".py",
   "mimetype": "text/x-python",
   "name": "python",
   "nbconvert_exporter": "python",
   "pygments_lexer": "ipython3",
   "version": "3.9.10"
  }
 },
 "nbformat": 4,
 "nbformat_minor": 5
}
